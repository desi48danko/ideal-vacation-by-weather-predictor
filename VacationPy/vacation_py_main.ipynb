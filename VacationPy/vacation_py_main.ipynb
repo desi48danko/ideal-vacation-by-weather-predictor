{
 "cells": [
  {
   "cell_type": "markdown",
   "id": "db955645",
   "metadata": {},
   "source": [
    "# File Setup"
   ]
  },
  {
   "cell_type": "code",
   "execution_count": 1,
   "id": "b6e7ae6a",
   "metadata": {},
   "outputs": [],
   "source": [
    "#dependencies\n",
    "import matplotlib.pyplot as plt\n",
    "import pandas as pd\n",
    "import numpy as np\n",
    "import requests\n",
    "import sys\n",
    "import gmaps\n",
    "from pprint import pprint\n",
    "\n",
    "#plot style\n",
    "plt.style.use('dark_background')\n",
    "\n",
    "#api-key in different folder, so need to adjust filepath\n",
    "sys.path.append(\"/Users/Chrismus Time/Desktop/upenn-datacamp-2021/homework-repo/python-api-challenge\")\n",
    "\n",
    "#import keys\n",
    "from config import gkey\n",
    "from config import api_key\n",
    "\n",
    "#configure key\n",
    "gmaps.configure(api_key = gkey)\n",
    "\n",
    "#github commands\n",
    "# jupyter nbextension enable --py gmaps\n",
    "# jupyter nbextension enable --py widgetsnbextension"
   ]
  },
  {
   "cell_type": "markdown",
   "id": "c3326d78",
   "metadata": {},
   "source": [
    "# Dataframe Setup"
   ]
  },
  {
   "cell_type": "code",
   "execution_count": 2,
   "id": "3d8e56ad",
   "metadata": {},
   "outputs": [
    {
     "data": {
      "text/html": [
       "<div>\n",
       "<style scoped>\n",
       "    .dataframe tbody tr th:only-of-type {\n",
       "        vertical-align: middle;\n",
       "    }\n",
       "\n",
       "    .dataframe tbody tr th {\n",
       "        vertical-align: top;\n",
       "    }\n",
       "\n",
       "    .dataframe thead th {\n",
       "        text-align: right;\n",
       "    }\n",
       "</style>\n",
       "<table border=\"1\" class=\"dataframe\">\n",
       "  <thead>\n",
       "    <tr style=\"text-align: right;\">\n",
       "      <th></th>\n",
       "      <th>City</th>\n",
       "      <th>Country</th>\n",
       "      <th>Latitude</th>\n",
       "      <th>Longitude</th>\n",
       "      <th>Temp (F)</th>\n",
       "      <th>Humidity (%)</th>\n",
       "      <th>Clouds (%)</th>\n",
       "      <th>Wind Speed (mph)</th>\n",
       "    </tr>\n",
       "  </thead>\n",
       "  <tbody>\n",
       "    <tr>\n",
       "      <th>0</th>\n",
       "      <td>tasiilaq</td>\n",
       "      <td>gl</td>\n",
       "      <td>65.613456</td>\n",
       "      <td>-37.633570</td>\n",
       "      <td>28.56</td>\n",
       "      <td>76.0</td>\n",
       "      <td>69.0</td>\n",
       "      <td>5.23</td>\n",
       "    </tr>\n",
       "    <tr>\n",
       "      <th>1</th>\n",
       "      <td>busselton</td>\n",
       "      <td>au</td>\n",
       "      <td>-33.651646</td>\n",
       "      <td>115.347334</td>\n",
       "      <td>46.04</td>\n",
       "      <td>81.0</td>\n",
       "      <td>1.0</td>\n",
       "      <td>8.12</td>\n",
       "    </tr>\n",
       "    <tr>\n",
       "      <th>2</th>\n",
       "      <td>albany</td>\n",
       "      <td>au</td>\n",
       "      <td>42.652579</td>\n",
       "      <td>-73.756232</td>\n",
       "      <td>48.85</td>\n",
       "      <td>74.0</td>\n",
       "      <td>1.0</td>\n",
       "      <td>1.99</td>\n",
       "    </tr>\n",
       "    <tr>\n",
       "      <th>3</th>\n",
       "      <td>cherskiy</td>\n",
       "      <td>ru</td>\n",
       "      <td>68.742677</td>\n",
       "      <td>161.350784</td>\n",
       "      <td>-16.02</td>\n",
       "      <td>94.0</td>\n",
       "      <td>91.0</td>\n",
       "      <td>0.69</td>\n",
       "    </tr>\n",
       "    <tr>\n",
       "      <th>4</th>\n",
       "      <td>west wendover</td>\n",
       "      <td>us</td>\n",
       "      <td>40.739097</td>\n",
       "      <td>-114.073345</td>\n",
       "      <td>43.81</td>\n",
       "      <td>81.0</td>\n",
       "      <td>1.0</td>\n",
       "      <td>0.00</td>\n",
       "    </tr>\n",
       "  </tbody>\n",
       "</table>\n",
       "</div>"
      ],
      "text/plain": [
       "            City Country   Latitude   Longitude  Temp (F)  Humidity (%)  \\\n",
       "0       tasiilaq      gl  65.613456  -37.633570     28.56          76.0   \n",
       "1      busselton      au -33.651646  115.347334     46.04          81.0   \n",
       "2         albany      au  42.652579  -73.756232     48.85          74.0   \n",
       "3       cherskiy      ru  68.742677  161.350784    -16.02          94.0   \n",
       "4  west wendover      us  40.739097 -114.073345     43.81          81.0   \n",
       "\n",
       "   Clouds (%)  Wind Speed (mph)  \n",
       "0        69.0              5.23  \n",
       "1         1.0              8.12  \n",
       "2         1.0              1.99  \n",
       "3        91.0              0.69  \n",
       "4         1.0              0.00  "
      ]
     },
     "execution_count": 2,
     "metadata": {},
     "output_type": "execute_result"
    }
   ],
   "source": [
    "#import data from created city csv\n",
    "city_df = pd.read_csv(\"../WeatherPy/dataframe.csv\")\n",
    "\n",
    "#clean up data\n",
    "clean_df = city_df.dropna(how = 'any').reset_index().drop(['index', 'Unnamed: 0'], axis = 1)\n",
    "clean_df.head()"
   ]
  },
  {
   "cell_type": "markdown",
   "id": "68c715aa",
   "metadata": {},
   "source": [
    "# Plotting Humidity Heatmap"
   ]
  },
  {
   "cell_type": "code",
   "execution_count": 3,
   "id": "128e20e5",
   "metadata": {},
   "outputs": [
    {
     "name": "stdout",
     "output_type": "stream",
     "text": [
      "Humidity: mean 70.54, median 75.0, mode 0    91.0\n",
      "dtype: float64.\n"
     ]
    },
    {
     "data": {
      "application/vnd.jupyter.widget-view+json": {
       "model_id": "6b993840f13b4edaaf68f7b748e1f194",
       "version_major": 2,
       "version_minor": 0
      },
      "text/plain": [
       "Figure(layout=FigureLayout(border='1px solid black', height='500px', margin='0 auto 0 auto', padding='1px', wi…"
      ]
     },
     "metadata": {},
     "output_type": "display_data"
    }
   ],
   "source": [
    "#figure settings\n",
    "fig_settings = {\n",
    "    'width': '600px',\n",
    "    'height': '500px',\n",
    "    'border': '1px solid black',\n",
    "    'padding': '1px',\n",
    "    'margin': '0 auto 0 auto'\n",
    "}\n",
    "\n",
    "#create fig\n",
    "fig = gmaps.figure(layout = fig_settings)\n",
    "\n",
    "#generating heatmap variables\n",
    "coordinates = list(zip(clean_df['Latitude'].tolist(), clean_df['Longitude'].tolist()))\n",
    "humidity_values = clean_df['Humidity (%)']\n",
    "max_intensity = clean_df['Humidity (%)'].max()\n",
    "point_radius = 7\n",
    "\n",
    "#creating marker layer\n",
    "heat_layer = gmaps.heatmap_layer(coordinates, weights = humidity_values, dissipating = True, max_intensity = max_intensity, point_radius = point_radius)\n",
    "\n",
    "#testing the humidity to see why so much red\n",
    "print(f\"Humidity: mean {round(clean_df['Humidity (%)'].mean(),2)}, median {clean_df['Humidity (%)'].median()}, mode {clean_df['Humidity (%)'].mode()}.\")\n",
    "\n",
    "#adding markers to map\n",
    "fig.add_layer(heat_layer)\n",
    "fig"
   ]
  },
  {
   "cell_type": "markdown",
   "id": "7b8a1ad6",
   "metadata": {},
   "source": [
    "# Plotting Ideal Heatmap"
   ]
  },
  {
   "cell_type": "markdown",
   "id": "a1db14a5",
   "metadata": {},
   "source": [
    "### Narrowing down ideal conditions"
   ]
  },
  {
   "cell_type": "code",
   "execution_count": 4,
   "id": "d79dbe5f",
   "metadata": {},
   "outputs": [
    {
     "name": "stdout",
     "output_type": "stream",
     "text": [
      "There are only 4 ideal cities out of 452.\n"
     ]
    },
    {
     "data": {
      "text/html": [
       "<div>\n",
       "<style scoped>\n",
       "    .dataframe tbody tr th:only-of-type {\n",
       "        vertical-align: middle;\n",
       "    }\n",
       "\n",
       "    .dataframe tbody tr th {\n",
       "        vertical-align: top;\n",
       "    }\n",
       "\n",
       "    .dataframe thead th {\n",
       "        text-align: right;\n",
       "    }\n",
       "</style>\n",
       "<table border=\"1\" class=\"dataframe\">\n",
       "  <thead>\n",
       "    <tr style=\"text-align: right;\">\n",
       "      <th></th>\n",
       "      <th>City</th>\n",
       "      <th>Country</th>\n",
       "      <th>Latitude</th>\n",
       "      <th>Longitude</th>\n",
       "      <th>Temp (F)</th>\n",
       "      <th>Humidity (%)</th>\n",
       "      <th>Clouds (%)</th>\n",
       "      <th>Wind Speed (mph)</th>\n",
       "    </tr>\n",
       "  </thead>\n",
       "  <tbody>\n",
       "    <tr>\n",
       "      <th>0</th>\n",
       "      <td>lubango</td>\n",
       "      <td>ao</td>\n",
       "      <td>-14.918614</td>\n",
       "      <td>13.532123</td>\n",
       "      <td>76.55</td>\n",
       "      <td>34.0</td>\n",
       "      <td>100.0</td>\n",
       "      <td>1.23</td>\n",
       "    </tr>\n",
       "    <tr>\n",
       "      <th>1</th>\n",
       "      <td>manbij</td>\n",
       "      <td>sy</td>\n",
       "      <td>36.535285</td>\n",
       "      <td>37.967865</td>\n",
       "      <td>61.57</td>\n",
       "      <td>44.0</td>\n",
       "      <td>38.0</td>\n",
       "      <td>6.89</td>\n",
       "    </tr>\n",
       "    <tr>\n",
       "      <th>2</th>\n",
       "      <td>rawson</td>\n",
       "      <td>ar</td>\n",
       "      <td>-43.299858</td>\n",
       "      <td>-65.099487</td>\n",
       "      <td>74.08</td>\n",
       "      <td>26.0</td>\n",
       "      <td>98.0</td>\n",
       "      <td>8.90</td>\n",
       "    </tr>\n",
       "    <tr>\n",
       "      <th>3</th>\n",
       "      <td>waghai</td>\n",
       "      <td>in</td>\n",
       "      <td>20.773729</td>\n",
       "      <td>73.497566</td>\n",
       "      <td>71.22</td>\n",
       "      <td>46.0</td>\n",
       "      <td>43.0</td>\n",
       "      <td>5.68</td>\n",
       "    </tr>\n",
       "  </tbody>\n",
       "</table>\n",
       "</div>"
      ],
      "text/plain": [
       "      City Country   Latitude  Longitude  Temp (F)  Humidity (%)  Clouds (%)  \\\n",
       "0  lubango      ao -14.918614  13.532123     76.55          34.0       100.0   \n",
       "1   manbij      sy  36.535285  37.967865     61.57          44.0        38.0   \n",
       "2   rawson      ar -43.299858 -65.099487     74.08          26.0        98.0   \n",
       "3   waghai      in  20.773729  73.497566     71.22          46.0        43.0   \n",
       "\n",
       "   Wind Speed (mph)  \n",
       "0              1.23  \n",
       "1              6.89  \n",
       "2              8.90  \n",
       "3              5.68  "
      ]
     },
     "execution_count": 4,
     "metadata": {},
     "output_type": "execute_result"
    }
   ],
   "source": [
    "#using custom qualifications for personal ideal\n",
    "ideal_df = clean_df.loc[(clean_df['Temp (F)'] < 77) &\n",
    "                        (clean_df['Temp (F)'] > 60) &\n",
    "                        (clean_df['Humidity (%)'] < 50) &\n",
    "                        (clean_df['Wind Speed (mph)'] < 10) &\n",
    "                        (clean_df['Clouds (%)'] > 10)]\n",
    "print(f\"There are only {len(ideal_df['City'])} ideal cities out of {len(clean_df['City'])}.\")\n",
    "ideal_df = ideal_df.reset_index().drop('index', axis = 1)\n",
    "ideal_df.head()"
   ]
  },
  {
   "cell_type": "markdown",
   "id": "958cb2fc",
   "metadata": {},
   "source": [
    "### Fetching data for closest hotels"
   ]
  },
  {
   "cell_type": "code",
   "execution_count": 5,
   "id": "e44ba84c",
   "metadata": {},
   "outputs": [],
   "source": [
    "#setting variables for ideal heatmap\n",
    "gplaces_url = \"https://maps.googleapis.com/maps/api/place/nearbysearch/json\"\n",
    "gplaces_parameters = {\n",
    "    'keyword' : 'hotel',\n",
    "    'location' : '',\n",
    "    'radius' : 5000,\n",
    "    'key' : gkey\n",
    "}\n",
    "\n",
    "#setting lists/variables for forloop\n",
    "found = False\n",
    "hotel_names, hotel_lat, hotel_long = [], [], []\n",
    "hotel_meta_list = [hotel_names, hotel_lat, hotel_long]\n",
    "functions_list = [\"hotel_response['results'][0]['name']\", \"hotel_response['results'][0]['geometry']['location']['lat']\", \"hotel_response['results'][0]['geometry']['location']['lng']\"]"
   ]
  },
  {
   "cell_type": "code",
   "execution_count": 6,
   "id": "68d5b9a7",
   "metadata": {},
   "outputs": [
    {
     "name": "stdout",
     "output_type": "stream",
     "text": [
      "lubango has at least one matching result.\n",
      "manbij has at least one matching result.\n",
      "rawson has at least one matching result.\n",
      "waghai has no matching results.\n"
     ]
    }
   ],
   "source": [
    "#requests hotel of ideal locations\n",
    "for i in range(len(ideal_df['City'])):\n",
    "    gplaces_parameters['location'] = f\"{ideal_df['Latitude'].tolist()[i]},{ideal_df['Longitude'].tolist()[i]}\"\n",
    "    hotel_response = requests.get(gplaces_url, params = gplaces_parameters).json()\n",
    "    for j in range(len(hotel_meta_list)):\n",
    "        try:\n",
    "            hotel_meta_list[j].append(eval(functions_list[j]))\n",
    "            found = True\n",
    "        except:\n",
    "            hotel_meta_list[j].append(np.NaN)\n",
    "    if (found == True):\n",
    "        print(f\"{ideal_df['City'].tolist()[i]} has at least one matching result.\")\n",
    "    else:\n",
    "        print(f\"{ideal_df['City'].tolist()[i]} has no matching results.\")\n",
    "    found = False #resetting for the next city"
   ]
  },
  {
   "cell_type": "markdown",
   "id": "1096a800",
   "metadata": {},
   "source": [
    "### Creating the new dataframe with hotel data"
   ]
  },
  {
   "cell_type": "code",
   "execution_count": 7,
   "id": "61f2d786",
   "metadata": {},
   "outputs": [
    {
     "data": {
      "text/html": [
       "<div>\n",
       "<style scoped>\n",
       "    .dataframe tbody tr th:only-of-type {\n",
       "        vertical-align: middle;\n",
       "    }\n",
       "\n",
       "    .dataframe tbody tr th {\n",
       "        vertical-align: top;\n",
       "    }\n",
       "\n",
       "    .dataframe thead th {\n",
       "        text-align: right;\n",
       "    }\n",
       "</style>\n",
       "<table border=\"1\" class=\"dataframe\">\n",
       "  <thead>\n",
       "    <tr style=\"text-align: right;\">\n",
       "      <th></th>\n",
       "      <th>City</th>\n",
       "      <th>Country</th>\n",
       "      <th>Latitude</th>\n",
       "      <th>Longitude</th>\n",
       "      <th>Temp (F)</th>\n",
       "      <th>Humidity (%)</th>\n",
       "      <th>Clouds (%)</th>\n",
       "      <th>Wind Speed (mph)</th>\n",
       "      <th>Closest Hotel</th>\n",
       "      <th>Hotel Latitude</th>\n",
       "      <th>Hotel Longitude</th>\n",
       "    </tr>\n",
       "  </thead>\n",
       "  <tbody>\n",
       "    <tr>\n",
       "      <th>0</th>\n",
       "      <td>lubango</td>\n",
       "      <td>ao</td>\n",
       "      <td>-14.918614</td>\n",
       "      <td>13.532123</td>\n",
       "      <td>76.55</td>\n",
       "      <td>34.0</td>\n",
       "      <td>100.0</td>\n",
       "      <td>1.23</td>\n",
       "      <td>Chik-Chik Lubango</td>\n",
       "      <td>-14.916518</td>\n",
       "      <td>13.499923</td>\n",
       "    </tr>\n",
       "    <tr>\n",
       "      <th>1</th>\n",
       "      <td>manbij</td>\n",
       "      <td>sy</td>\n",
       "      <td>36.535285</td>\n",
       "      <td>37.967865</td>\n",
       "      <td>61.57</td>\n",
       "      <td>44.0</td>\n",
       "      <td>38.0</td>\n",
       "      <td>6.89</td>\n",
       "      <td>Manbej City Hotel</td>\n",
       "      <td>36.527127</td>\n",
       "      <td>37.951116</td>\n",
       "    </tr>\n",
       "    <tr>\n",
       "      <th>2</th>\n",
       "      <td>rawson</td>\n",
       "      <td>ar</td>\n",
       "      <td>-43.299858</td>\n",
       "      <td>-65.099487</td>\n",
       "      <td>74.08</td>\n",
       "      <td>26.0</td>\n",
       "      <td>98.0</td>\n",
       "      <td>8.90</td>\n",
       "      <td>Hosteria Sampedro</td>\n",
       "      <td>-43.301509</td>\n",
       "      <td>-65.104922</td>\n",
       "    </tr>\n",
       "    <tr>\n",
       "      <th>3</th>\n",
       "      <td>waghai</td>\n",
       "      <td>in</td>\n",
       "      <td>20.773729</td>\n",
       "      <td>73.497566</td>\n",
       "      <td>71.22</td>\n",
       "      <td>46.0</td>\n",
       "      <td>43.0</td>\n",
       "      <td>5.68</td>\n",
       "      <td>NaN</td>\n",
       "      <td>NaN</td>\n",
       "      <td>NaN</td>\n",
       "    </tr>\n",
       "  </tbody>\n",
       "</table>\n",
       "</div>"
      ],
      "text/plain": [
       "      City Country   Latitude  Longitude  Temp (F)  Humidity (%)  Clouds (%)  \\\n",
       "0  lubango      ao -14.918614  13.532123     76.55          34.0       100.0   \n",
       "1   manbij      sy  36.535285  37.967865     61.57          44.0        38.0   \n",
       "2   rawson      ar -43.299858 -65.099487     74.08          26.0        98.0   \n",
       "3   waghai      in  20.773729  73.497566     71.22          46.0        43.0   \n",
       "\n",
       "   Wind Speed (mph)      Closest Hotel  Hotel Latitude  Hotel Longitude  \n",
       "0              1.23  Chik-Chik Lubango      -14.916518        13.499923  \n",
       "1              6.89  Manbej City Hotel       36.527127        37.951116  \n",
       "2              8.90  Hosteria Sampedro      -43.301509       -65.104922  \n",
       "3              5.68                NaN             NaN              NaN  "
      ]
     },
     "execution_count": 7,
     "metadata": {},
     "output_type": "execute_result"
    }
   ],
   "source": [
    "#variables for populating\n",
    "new_columns = ['Closest Hotel', 'Hotel Latitude', 'Hotel Longitude']\n",
    "\n",
    "#populating dataframe\n",
    "for i in range(len(new_columns)):\n",
    "    ideal_df[new_columns[i]] = hotel_meta_list[i]\n",
    "\n",
    "#displaying new dataframe\n",
    "ideal_df.head()"
   ]
  },
  {
   "cell_type": "code",
   "execution_count": 8,
   "id": "53593a07",
   "metadata": {},
   "outputs": [],
   "source": [
    "#create info box format\n",
    "info_box_format = \"\"\"\n",
    "<dl>\n",
    "<dt><b>Name</b></dt><dd>{Closest Hotel}</dd>\n",
    "<dt><b>City</b></dt><dd>{City}</dd>\n",
    "<dt><b>Country</b></dt><dd>{Country}</dd>\n",
    "</dl>\n",
    "\"\"\"\n",
    "\n",
    "#populating format for each city\n",
    "hotel_info = [info_box_format.format(**row) for index, row in ideal_df.iterrows()]\n",
    "#QUESTION FOR SELF: Review^, BCS helped me with this formula"
   ]
  },
  {
   "cell_type": "code",
   "execution_count": 9,
   "id": "97ed14b0",
   "metadata": {},
   "outputs": [
    {
     "data": {
      "application/vnd.jupyter.widget-view+json": {
       "model_id": "6b993840f13b4edaaf68f7b748e1f194",
       "version_major": 2,
       "version_minor": 0
      },
      "text/plain": [
       "Figure(layout=FigureLayout(border='1px solid black', height='500px', margin='0 auto 0 auto', padding='1px', wi…"
      ]
     },
     "metadata": {},
     "output_type": "display_data"
    }
   ],
   "source": [
    "#generating markers variables\n",
    "coordinates = list(zip(ideal_df['Latitude'].tolist(), ideal_df['Longitude'].tolist()))\n",
    "\n",
    "#creating marker layer\n",
    "marker_layer = gmaps.marker_layer(coordinates, info_box_content = hotel_info)\n",
    "\n",
    "#adding markers to map\n",
    "fig.add_layer(marker_layer)\n",
    "fig"
   ]
  }
 ],
 "metadata": {
  "kernelspec": {
   "display_name": "Python [conda env:PythonData] *",
   "language": "python",
   "name": "conda-env-PythonData-py"
  },
  "language_info": {
   "codemirror_mode": {
    "name": "ipython",
    "version": 3
   },
   "file_extension": ".py",
   "mimetype": "text/x-python",
   "name": "python",
   "nbconvert_exporter": "python",
   "pygments_lexer": "ipython3",
   "version": "3.8.12"
  }
 },
 "nbformat": 4,
 "nbformat_minor": 5
}
